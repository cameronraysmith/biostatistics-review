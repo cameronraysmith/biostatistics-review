{
 "cells": [
  {
   "cell_type": "markdown",
   "id": "24e437f2",
   "metadata": {
    "slideshow": {
     "slide_type": "slide"
    }
   },
   "source": [
    "# Hierarchical regression"
   ]
  },
  {
   "cell_type": "markdown",
   "id": "d5a17757",
   "metadata": {
    "slideshow": {
     "slide_type": "fragment"
    }
   },
   "source": [
    "The following notes are based on <cite data-cite=\"Gelman2006-uo\">Gelman and Hill (2006)</cite>."
   ]
  },
  {
   "cell_type": "markdown",
   "id": "bada8a8f",
   "metadata": {
    "heading_collapsed": "true",
    "slideshow": {
     "slide_type": "slide"
    },
    "tags": []
   },
   "source": [
    "## Setup"
   ]
  },
  {
   "cell_type": "markdown",
   "id": "069ed898",
   "metadata": {},
   "source": [
    "### Install libraries"
   ]
  },
  {
   "cell_type": "code",
   "execution_count": 1,
   "id": "38aa5b65",
   "metadata": {
    "execution": {
     "iopub.execute_input": "2021-05-27T07:35:06.549154Z",
     "iopub.status.busy": "2021-05-27T07:35:06.548688Z",
     "iopub.status.idle": "2021-05-27T07:35:06.553249Z",
     "shell.execute_reply": "2021-05-27T07:35:06.552463Z",
     "shell.execute_reply.started": "2021-05-27T07:35:06.549055Z"
    },
    "slideshow": {
     "slide_type": "fragment"
    },
    "tags": []
   },
   "outputs": [],
   "source": [
    "# %run -i 'plotting.py'"
   ]
  },
  {
   "cell_type": "code",
   "execution_count": 2,
   "id": "aa39b470",
   "metadata": {
    "execution": {
     "iopub.execute_input": "2021-05-27T07:35:06.554518Z",
     "iopub.status.busy": "2021-05-27T07:35:06.554330Z",
     "iopub.status.idle": "2021-05-27T07:35:06.587408Z",
     "shell.execute_reply": "2021-05-27T07:35:06.586802Z",
     "shell.execute_reply.started": "2021-05-27T07:35:06.554499Z"
    }
   },
   "outputs": [],
   "source": [
    "# !apt-get install -y fonts-lmodern\n",
    "# !pip install -q arviz numpyro"
   ]
  },
  {
   "cell_type": "markdown",
   "id": "4492c600",
   "metadata": {},
   "source": [
    "### Add latin modern fonts"
   ]
  },
  {
   "cell_type": "code",
   "execution_count": 3,
   "id": "0b6ac514",
   "metadata": {
    "execution": {
     "iopub.execute_input": "2021-05-27T07:35:06.589012Z",
     "iopub.status.busy": "2021-05-27T07:35:06.588806Z",
     "iopub.status.idle": "2021-05-27T07:35:06.866357Z",
     "shell.execute_reply": "2021-05-27T07:35:06.865607Z",
     "shell.execute_reply.started": "2021-05-27T07:35:06.588986Z"
    }
   },
   "outputs": [],
   "source": [
    "import matplotlib.pyplot as plt\n",
    "import matplotlib.font_manager"
   ]
  },
  {
   "cell_type": "code",
   "execution_count": 4,
   "id": "c766516a",
   "metadata": {
    "execution": {
     "iopub.execute_input": "2021-05-27T07:35:06.867676Z",
     "iopub.status.busy": "2021-05-27T07:35:06.867501Z",
     "iopub.status.idle": "2021-05-27T07:35:06.872982Z",
     "shell.execute_reply": "2021-05-27T07:35:06.872411Z",
     "shell.execute_reply.started": "2021-05-27T07:35:06.867657Z"
    }
   },
   "outputs": [],
   "source": [
    "## fonts_path = \"/usr/share/texmf/fonts/opentype/public/lm/\" #ubuntu\n",
    "## fonts_path = \"~/Library/Fonts/\" # macos\n",
    "fonts_path = \"/usr/share/fonts/OTF/\" # arch\n",
    "matplotlib.font_manager.fontManager.addfont(fonts_path + \"lmsans10-regular.otf\")\n",
    "matplotlib.font_manager.fontManager.addfont(fonts_path + \"lmroman10-regular.otf\")"
   ]
  },
  {
   "cell_type": "markdown",
   "id": "2328005f",
   "metadata": {},
   "source": [
    "### Set matplotlib to use latin modern fonts"
   ]
  },
  {
   "cell_type": "code",
   "execution_count": 5,
   "id": "2af90029",
   "metadata": {
    "execution": {
     "iopub.execute_input": "2021-05-27T07:35:06.874051Z",
     "iopub.status.busy": "2021-05-27T07:35:06.873873Z",
     "iopub.status.idle": "2021-05-27T07:35:06.905184Z",
     "shell.execute_reply": "2021-05-27T07:35:06.904448Z",
     "shell.execute_reply.started": "2021-05-27T07:35:06.874014Z"
    }
   },
   "outputs": [
    {
     "name": "stderr",
     "output_type": "stream",
     "text": [
      "<ipython-input-5-5f8582c2894e>:3: DeprecationWarning: `set_matplotlib_formats` is deprecated since IPython 7.23, directly use `matplotlib_inline.backend_inline.set_matplotlib_formats()`\n",
      "  set_matplotlib_formats('svg') # use SVG backend to maintain vectorization\n"
     ]
    }
   ],
   "source": [
    "from IPython.display import set_matplotlib_formats\n",
    "##%matplotlib inline\n",
    "set_matplotlib_formats('svg') # use SVG backend to maintain vectorization\n",
    "plt.style.use('default') #reset default parameters\n",
    "## https://stackoverflow.com/a/3900167/446907\n",
    "plt.rcParams.update({'font.size': 16,\n",
    "                     'font.family': ['sans-serif'],\n",
    "                     'font.serif': ['Latin Modern Roman'] + plt.rcParams['font.serif'],\n",
    "                     'font.sans-serif': ['Latin Modern Sans'] + plt.rcParams['font.sans-serif']})"
   ]
  },
  {
   "cell_type": "markdown",
   "id": "5fdba659",
   "metadata": {
    "slideshow": {
     "slide_type": "slide"
    }
   },
   "source": [
    "## Generative models"
   ]
  },
  {
   "cell_type": "markdown",
   "id": "5ebbd7e8",
   "metadata": {
    "slideshow": {
     "slide_type": "subslide"
    }
   },
   "source": [
    "### Example generative models"
   ]
  },
  {
   "cell_type": "markdown",
   "id": "c8b2a8f0",
   "metadata": {
    "slideshow": {
     "slide_type": "subslide"
    }
   },
   "source": [
    "#### Univariate normal model"
   ]
  },
  {
   "cell_type": "markdown",
   "id": "fa273c58",
   "metadata": {
    "slideshow": {
     "slide_type": "fragment"
    }
   },
   "source": [
    "From a very simple perspective, generative modeling refers to the situation in which we develop a candidate probabilistic specification of the process from which our data are generated. Usually this will include the specification of prior distributions over all first-order parameters."
   ]
  },
  {
   "cell_type": "markdown",
   "id": "a9d8716b",
   "metadata": {
    "slideshow": {
     "slide_type": "fragment"
    }
   },
   "source": [
    "<div>\n",
    "<center>    \n",
    "<img src=\"https://www.bayespy.org/_images/tikz-57bc0c88a2974f4c1e2335fe9edb88ff2efdf970.png\" style=\"background-color:white;\" alt=\"Drawing\" width=\"10%\"/></center>\n",
    "</div>"
   ]
  },
  {
   "cell_type": "markdown",
   "id": "a016ae26",
   "metadata": {
    "slideshow": {
     "slide_type": "fragment"
    }
   },
   "source": [
    "\\begin{equation*}\n",
    "\\begin{split}\n",
    "p(\\mathbf{y}|\\mu,\\tau) &= \\prod^{9}_{n=0} \\mathcal{N}(y_n|\\mu,\\tau) \\\\\n",
    "p(\\mu) &= \\mathcal{N}(\\mu|0,10^{-6}) \\\\\n",
    "p(\\tau) &= \\mathcal{G}(\\tau|10^{-6},10^{-6})\n",
    "\\end{split}\n",
    "\\end{equation*}"
   ]
  },
  {
   "cell_type": "markdown",
   "id": "efb78014",
   "metadata": {
    "slideshow": {
     "slide_type": "fragment"
    }
   },
   "source": [
    "This comes from the library [bayespy](https://github.com/bayespy/bayespy/blob/develop/doc/source/user_guide/quickstart.rst). The best description we are aware of regarding the syntax and semantics of graphical models via factor graph notation is in the [tikz-bayesnet](https://github.com/jluttine/tikz-bayesnet) library [technical report](https://github.com/jluttine/tikz-bayesnet/blob/master/dietz-techreport.pdf)."
   ]
  },
  {
   "cell_type": "markdown",
   "id": "cd02916d",
   "metadata": {
    "slideshow": {
     "slide_type": "subslide"
    }
   },
   "source": [
    "#### Multivariate normal models"
   ]
  },
  {
   "cell_type": "markdown",
   "id": "3ab66fc8",
   "metadata": {
    "slideshow": {
     "slide_type": "fragment"
    }
   },
   "source": [
    "<div>\n",
    "<center>    \n",
    "<img src=\"https://www.bayespy.org/_images/tikz-80a1db369be1f25b61ceacfff551dae2bdd331c3.png\" style=\"background-color:white;\" alt=\"Drawing\" width=\"10%\"/></center>\n",
    "</div>"
   ]
  },
  {
   "cell_type": "markdown",
   "id": "7f6f5933",
   "metadata": {
    "slideshow": {
     "slide_type": "fragment"
    }
   },
   "source": [
    "$$\\mathbf{y}_{mn} \\sim \\mathcal{N}(\\boldsymbol{\\mu}, \\mathbf{\\Lambda}),\\qquad m=0,\\ldots,9, \\quad n=0,\\ldots,29.$$"
   ]
  },
  {
   "cell_type": "markdown",
   "id": "ae3ce7ab",
   "metadata": {
    "slideshow": {
     "slide_type": "subslide"
    }
   },
   "source": [
    "<div>\n",
    "<center>    \n",
    "<img src=\"https://www.bayespy.org/_images/tikz-97236981a2be663d10ade1ad85caa727621615db.png\" style=\"background-color:white;\" alt=\"Drawing\" width=\"20%\"/></center>\n",
    "</div>"
   ]
  },
  {
   "cell_type": "markdown",
   "id": "a83ce73f",
   "metadata": {
    "slideshow": {
     "slide_type": "fragment"
    }
   },
   "source": [
    "$$\\mathbf{y}_{mn} \\sim \\mathcal{N}(\\boldsymbol{\\mu}_m,\n",
    "\\mathbf{\\Lambda}_n),\\qquad m=0,\\ldots,9, \\quad n=0,\\ldots,29.$$\n",
    "\n",
    "Note that these are for illustrative purposes of the manner in which our data can share parameters and we have not yet defined priors over our parameters."
   ]
  },
  {
   "cell_type": "markdown",
   "id": "27f5a5c5",
   "metadata": {
    "slideshow": {
     "slide_type": "slide"
    }
   },
   "source": [
    "## Example of linear regression"
   ]
  },
  {
   "cell_type": "markdown",
   "id": "a49c88dc",
   "metadata": {},
   "source": [
    "### Setup"
   ]
  },
  {
   "cell_type": "markdown",
   "id": "f7b35351",
   "metadata": {},
   "source": [
    "#### Load libraries"
   ]
  },
  {
   "cell_type": "code",
   "execution_count": 6,
   "id": "45be32e7",
   "metadata": {
    "execution": {
     "iopub.execute_input": "2021-05-27T07:35:06.906213Z",
     "iopub.status.busy": "2021-05-27T07:35:06.906033Z",
     "iopub.status.idle": "2021-05-27T07:35:08.318577Z",
     "shell.execute_reply": "2021-05-27T07:35:08.318057Z",
     "shell.execute_reply.started": "2021-05-27T07:35:06.906195Z"
    },
    "slideshow": {
     "slide_type": "fragment"
    }
   },
   "outputs": [
    {
     "name": "stdout",
     "output_type": "stream",
     "text": [
      "0.6.0\n",
      "0.2.13\n",
      "0.11.2\n"
     ]
    }
   ],
   "source": [
    "## %pylab inline\n",
    "import matplotlib.pyplot as plt\n",
    "import pandas as pd\n",
    "import scipy.stats as stats\n",
    "import seaborn as sns\n",
    "import numpy as np\n",
    "## plt.style.use(['seaborn-talk'])\n",
    "## plt.rcParams[\"figure.figsize\"] = (10,8)\n",
    "\n",
    "import arviz as az\n",
    "import jax\n",
    "import jax.numpy as jnp\n",
    "import numpyro\n",
    "import numpyro.distributions as dist\n",
    "from numpyro.infer import MCMC, NUTS, Predictive\n",
    "print(numpyro.__version__)\n",
    "print(jax.__version__)\n",
    "print(az.__version__)\n",
    "\n",
    "numpyro.set_platform(\"cpu\")\n",
    "numpyro.set_host_device_count(4)"
   ]
  },
  {
   "cell_type": "markdown",
   "id": "4810cc0c",
   "metadata": {
    "slideshow": {
     "slide_type": "fragment"
    }
   },
   "source": [
    "#### define colors"
   ]
  },
  {
   "cell_type": "code",
   "execution_count": 7,
   "id": "f1fdbbdc",
   "metadata": {
    "execution": {
     "iopub.execute_input": "2021-05-27T07:35:08.319564Z",
     "iopub.status.busy": "2021-05-27T07:35:08.319400Z",
     "iopub.status.idle": "2021-05-27T07:35:08.322489Z",
     "shell.execute_reply": "2021-05-27T07:35:08.321825Z",
     "shell.execute_reply.started": "2021-05-27T07:35:08.319545Z"
    },
    "slideshow": {
     "slide_type": "fragment"
    }
   },
   "outputs": [],
   "source": [
    "c_light =\"#DCBCBC\"\n",
    "c_light_highlight =\"#C79999\"\n",
    "c_mid =\"#B97C7C\"\n",
    "c_mid_highlight =\"#A25050\"\n",
    "c_dark =\"#8F2727\"\n",
    "c_dark_highlight =\"#7C0000\""
   ]
  }
 ],
 "metadata": {
  "celltoolbar": "Slideshow",
  "jupytext": {
   "cell_metadata_json": true,
   "formats": "ipynb,md,py:percent",
   "notebook_metadata_filter": "all"
  },
  "kernelspec": {
   "display_name": "Python 3",
   "language": "python",
   "name": "python3"
  },
  "language_info": {
   "codemirror_mode": {
    "name": "ipython",
    "version": 3
   },
   "file_extension": ".py",
   "mimetype": "text/x-python",
   "name": "python",
   "nbconvert_exporter": "python",
   "pygments_lexer": "ipython3",
   "version": "3.9.5"
  },
  "name": "Betancourt's Probabilistic Modelling Workflow in numpyro",
  "rise": {
   "scroll": true,
   "theme": "black"
  },
  "toc-autonumbering": true,
  "toc-showcode": false,
  "toc-showmarkdowntxt": false,
  "toc-showtags": false
 },
 "nbformat": 4,
 "nbformat_minor": 5
}
