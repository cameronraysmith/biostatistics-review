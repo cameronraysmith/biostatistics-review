{
 "cells": [
  {
   "cell_type": "markdown",
   "id": "502da9ea-1f7f-4ed2-82d0-413a646b7643",
   "metadata": {
    "tags": []
   },
   "source": [
    "# Classical regression in Turing"
   ]
  },
  {
   "cell_type": "markdown",
   "id": "8ddf0d49",
   "metadata": {
    "tags": []
   },
   "source": [
    "## Setup plotting"
   ]
  },
  {
   "cell_type": "code",
   "execution_count": 1,
   "id": "dfd32e9b",
   "metadata": {
    "execution": {
     "iopub.execute_input": "2021-06-03T16:33:40.900000Z",
     "iopub.status.busy": "2021-06-03T16:33:40.222000Z",
     "iopub.status.idle": "2021-06-03T16:33:44.208000Z",
     "shell.execute_reply": "2021-06-03T16:33:44.185000Z"
    },
    "tags": []
   },
   "outputs": [
    {
     "data": {
      "text/plain": [
       "1-element Vector{String}:\n",
       " \"Latin Modern Roman\""
      ]
     },
     "execution_count": 1,
     "metadata": {},
     "output_type": "execute_result"
    }
   ],
   "source": [
    "using PyCall\n",
    "font_manager = pyimport(\"matplotlib.font_manager\")\n",
    "font_manager.fontManager.addfont(\"/usr/share/fonts/OTF/lmroman10-regular.otf\")\n",
    "PyDict(pyimport(\"matplotlib\")[\"rcParams\"])[\"font.serif\"] = [\"Latin Modern Roman\"]\n",
    "# font_manager.fontManager.addfont(\"/usr/share/fonts/OTF/lmsans10-regular.otf\")\n",
    "# PyDict(pyimport(\"matplotlib\")[\"rcParams\"])[\"font.serif\"] = [\"Latin Modern Sans\"]"
   ]
  },
  {
   "cell_type": "code",
   "execution_count": 2,
   "id": "0a8abc9f",
   "metadata": {
    "execution": {
     "iopub.execute_input": "2021-06-03T16:33:46.580000Z",
     "iopub.status.busy": "2021-06-03T16:33:46.464000Z",
     "iopub.status.idle": "2021-06-03T16:33:54.098000Z",
     "shell.execute_reply": "2021-06-03T16:33:54.098000Z"
    },
    "tags": []
   },
   "outputs": [
    {
     "data": {
      "text/plain": [
       "Plots.PyPlotBackend()"
      ]
     },
     "execution_count": 2,
     "metadata": {},
     "output_type": "execute_result"
    }
   ],
   "source": [
    "using Plots\n",
    "font = Plots.font(\"Latin Modern Roman\", 18)\n",
    "# font = Plots.font(\"Latin Modern Sans\", 18)\n",
    "pyplot(titlefont=font, guidefont=font, xtickfont=font, ytickfont=font, legendfont=font)"
   ]
  },
  {
   "cell_type": "code",
   "execution_count": 3,
   "id": "7953ed04",
   "metadata": {
    "execution": {
     "iopub.execute_input": "2021-06-03T16:33:59.789000Z",
     "iopub.status.busy": "2021-06-03T16:33:55.181000Z",
     "iopub.status.idle": "2021-06-03T16:34:15.379000Z",
     "shell.execute_reply": "2021-06-03T16:34:15.379000Z"
    },
    "tags": []
   },
   "outputs": [
    {
     "data": {
      "image/png": "[encoded data removed]"
     },
     "execution_count": 3,
     "metadata": {},
     "output_type": "execute_result"
    }
   ],
   "source": [
    "x = 1:10; y = rand(10); # These are the plotting data\n",
    "plot(x, y)"
   ]
  },
  {
   "cell_type": "markdown",
   "id": "ee54028c-abc0-4b23-a904-5bf859486c2a",
   "metadata": {
    "tags": []
   },
   "source": [
    "## Import libraries"
   ]
  },
  {
   "cell_type": "markdown",
   "id": "78f4083c-9cd1-41d0-abf6-ba6a6b1c03bf",
   "metadata": {
    "tags": []
   },
   "source": [
    "You may need to install `julia` package `ForwardDiff` if it isn't already installed.\n",
    "```bash\n",
    "julia -e 'using Pkg; Pkg.status()'\n",
    "julia -e 'using Pkg; Pkg.instantiate(); Pkg.API.precompile()'\n",
    "julia -e 'using Pkg; Pkg.add(\"ForwardDiff\")'\n",
    "```"
   ]
  },
  {
   "cell_type": "code",
   "execution_count": 4,
   "id": "43e6ab12-f8e1-4822-87a0-0afe7d9f7706",
   "metadata": {
    "execution": {
     "iopub.execute_input": "2021-06-03T16:34:18.851000Z",
     "iopub.status.busy": "2021-06-03T16:34:18.851000Z",
     "iopub.status.idle": "2021-06-03T16:34:49.605000Z",
     "shell.execute_reply": "2021-06-03T16:34:49.605000Z"
    },
    "tags": []
   },
   "outputs": [
    {
     "name": "stderr",
     "output_type": "stream",
     "text": [
      "┌ Info: Precompiling StatsPlots [f3b207a7-027a-5e70-b257-86293d7955fd]\n",
      "└ @ Base loading.jl:1317\n"
     ]
    }
   ],
   "source": [
    "# Import Turing and Distributions.\n",
    "using Turing, Distributions\n",
    "\n",
    "# Import RDatasets.\n",
    "using RDatasets\n",
    "\n",
    "# Import MCMCChains, Plots, and StatPlots for visualizations and diagnostics.\n",
    "using MCMCChains, Plots, StatsPlots\n",
    "\n",
    "# Functionality for splitting and normalizing the data.\n",
    "using MLDataUtils: shuffleobs, splitobs, rescale!\n",
    "\n",
    "# Functionality for evaluating the model predictions.\n",
    "using Distances\n",
    "\n",
    "# Functionality for reading CSV files into DataFrames\n",
    "using CSV\n",
    "using DataFrames\n",
    "\n",
    "# Set a seed for reproducibility.\n",
    "using Random\n",
    "Random.seed!(0)\n",
    "\n",
    "# Hide the progress prompt while sampling.\n",
    "# Turing.turnprogress(false);"
   ]
  },
  {
   "cell_type": "markdown",
   "id": "c05b6bd0-bee0-468e-855c-7a983cb806fc",
   "metadata": {
    "tags": []
   },
   "source": [
    "## Load data"
   ]
  },
  {
   "cell_type": "code",
   "execution_count": 9,
   "id": "c53eb79d-eb4f-48ef-b648-076100acbf2b",
   "metadata": {
    "execution": {
     "iopub.execute_input": "2021-06-02T03:41:19.951000Z",
     "iopub.status.busy": "2021-06-02T03:41:19.951000Z",
     "iopub.status.idle": "2021-06-02T03:41:20.028000Z",
     "shell.execute_reply": "2021-06-02T03:41:20.028000Z"
    },
    "tags": []
   },
   "outputs": [
    {
     "name": "stdout",
     "output_type": "stream",
     "text": [
      "(32, 12)"
     ]
    },
    {
     "data": {
      "text/html": [
       "<table class=\"data-frame\"><thead><tr><th></th><th>Model</th><th>MPG</th><th>Cyl</th><th>Disp</th><th>HP</th><th>DRat</th><th>WT</th><th>QSec</th><th>VS</th></tr><tr><th></th><th>String</th><th>Float64</th><th>Int64</th><th>Float64</th><th>Int64</th><th>Float64</th><th>Float64</th><th>Float64</th><th>Int64</th></tr></thead><tbody><p>6 rows × 12 columns (omitted printing of 3 columns)</p><tr><th>1</th><td>Mazda RX4</td><td>21.0</td><td>6</td><td>160.0</td><td>110</td><td>3.9</td><td>2.62</td><td>16.46</td><td>0</td></tr><tr><th>2</th><td>Mazda RX4 Wag</td><td>21.0</td><td>6</td><td>160.0</td><td>110</td><td>3.9</td><td>2.875</td><td>17.02</td><td>0</td></tr><tr><th>3</th><td>Datsun 710</td><td>22.8</td><td>4</td><td>108.0</td><td>93</td><td>3.85</td><td>2.32</td><td>18.61</td><td>1</td></tr><tr><th>4</th><td>Hornet 4 Drive</td><td>21.4</td><td>6</td><td>258.0</td><td>110</td><td>3.08</td><td>3.215</td><td>19.44</td><td>1</td></tr><tr><th>5</th><td>Hornet Sportabout</td><td>18.7</td><td>8</td><td>360.0</td><td>175</td><td>3.15</td><td>3.44</td><td>17.02</td><td>0</td></tr><tr><th>6</th><td>Valiant</td><td>18.1</td><td>6</td><td>225.0</td><td>105</td><td>2.76</td><td>3.46</td><td>20.22</td><td>1</td></tr></tbody></table>"
      ],
      "text/latex": [
       "\\begin{tabular}{r|cccccccccc}\n",
       "\t& Model & MPG & Cyl & Disp & HP & DRat & WT & QSec & VS & \\\\\n",
       "\t\\hline\n",
       "\t& String & Float64 & Int64 & Float64 & Int64 & Float64 & Float64 & Float64 & Int64 & \\\\\n",
       "\t\\hline\n",
       "\t1 & Mazda RX4 & 21.0 & 6 & 160.0 & 110 & 3.9 & 2.62 & 16.46 & 0 & $\\dots$ \\\\\n",
       "\t2 & Mazda RX4 Wag & 21.0 & 6 & 160.0 & 110 & 3.9 & 2.875 & 17.02 & 0 & $\\dots$ \\\\\n",
       "\t3 & Datsun 710 & 22.8 & 4 & 108.0 & 93 & 3.85 & 2.32 & 18.61 & 1 & $\\dots$ \\\\\n",
       "\t4 & Hornet 4 Drive & 21.4 & 6 & 258.0 & 110 & 3.08 & 3.215 & 19.44 & 1 & $\\dots$ \\\\\n",
       "\t5 & Hornet Sportabout & 18.7 & 8 & 360.0 & 175 & 3.15 & 3.44 & 17.02 & 0 & $\\dots$ \\\\\n",
       "\t6 & Valiant & 18.1 & 6 & 225.0 & 105 & 2.76 & 3.46 & 20.22 & 1 & $\\dots$ \\\\\n",
       "\\end{tabular}\n"
      ],
      "text/plain": [
       "\u001b[1m6×12 DataFrame\u001b[0m\n",
       "\u001b[1m Row \u001b[0m│\u001b[1m Model             \u001b[0m\u001b[1m MPG     \u001b[0m\u001b[1m Cyl   \u001b[0m\u001b[1m Disp    \u001b[0m\u001b[1m HP    \u001b[0m\u001b[1m DRat    \u001b[0m\u001b[1m WT      \u001b[0m\u001b[1m QS\u001b[0m ⋯\n",
       "\u001b[1m     \u001b[0m│\u001b[90m String            \u001b[0m\u001b[90m Float64 \u001b[0m\u001b[90m Int64 \u001b[0m\u001b[90m Float64 \u001b[0m\u001b[90m Int64 \u001b[0m\u001b[90m Float64 \u001b[0m\u001b[90m Float64 \u001b[0m\u001b[90m Fl\u001b[0m ⋯\n",
       "─────┼──────────────────────────────────────────────────────────────────────────\n",
       "   1 │ Mazda RX4             21.0      6    160.0    110     3.9     2.62      ⋯\n",
       "   2 │ Mazda RX4 Wag         21.0      6    160.0    110     3.9     2.875\n",
       "   3 │ Datsun 710            22.8      4    108.0     93     3.85    2.32\n",
       "   4 │ Hornet 4 Drive        21.4      6    258.0    110     3.08    3.215\n",
       "   5 │ Hornet Sportabout     18.7      8    360.0    175     3.15    3.44      ⋯\n",
       "   6 │ Valiant               18.1      6    225.0    105     2.76    3.46\n",
       "\u001b[36m                                                               5 columns omitted\u001b[0m"
      ]
     },
     "execution_count": 9,
     "metadata": {},
     "output_type": "execute_result"
    }
   ],
   "source": [
    "# Import the \"Default\" dataset.\n",
    "data = RDatasets.dataset(\"datasets\", \"mtcars\");\n",
    "\n",
    "# Show the first six rows of the dataset.\n",
    "print(size(data))\n",
    "first(data, 6)"
   ]
  },
  {
   "cell_type": "markdown",
   "id": "2bf2c06f-81d5-4c15-b95e-4bcedce95a33",
   "metadata": {
    "tags": []
   },
   "source": [
    "## Preprocess data"
   ]
  },
  {
   "cell_type": "markdown",
   "id": "840e6efa-fae0-44d7-9b8b-7875013ab670",
   "metadata": {
    "tags": []
   },
   "source": [
    "### Manipulate data structure into appropriate input form"
   ]
  },
  {
   "cell_type": "markdown",
   "id": "633c2a58-cb0a-4f1f-8520-3ba13eec0618",
   "metadata": {},
   "source": [
    "Extract a training and testing set from the data"
   ]
  },
  {
   "cell_type": "code",
   "execution_count": 10,
   "id": "34f81503-88f4-478d-9f65-3ca8adb636e9",
   "metadata": {
    "execution": {
     "iopub.execute_input": "2021-06-02T03:44:43.011000Z",
     "iopub.status.busy": "2021-06-02T03:44:43.011000Z",
     "iopub.status.idle": "2021-06-02T03:44:44.213000Z",
     "shell.execute_reply": "2021-06-02T03:44:44.213000Z"
    }
   },
   "outputs": [
    {
     "data": {
      "text/plain": [
       "(\u001b[1m22×11 SubDataFrame\u001b[0m\n",
       "\u001b[1m Row \u001b[0m│\u001b[1m MPG     \u001b[0m\u001b[1m Cyl   \u001b[0m\u001b[1m Disp    \u001b[0m\u001b[1m HP    \u001b[0m\u001b[1m DRat    \u001b[0m\u001b[1m WT      \u001b[0m\u001b[1m QSec    \u001b[0m\u001b[1m VS    \u001b[0m\u001b[1m AM   \u001b[0m ⋯\n",
       "\u001b[1m     \u001b[0m│\u001b[90m Float64 \u001b[0m\u001b[90m Int64 \u001b[0m\u001b[90m Float64 \u001b[0m\u001b[90m Int64 \u001b[0m\u001b[90m Float64 \u001b[0m\u001b[90m Float64 \u001b[0m\u001b[90m Float64 \u001b[0m\u001b[90m Int64 \u001b[0m\u001b[90m Int64\u001b[0m ⋯\n",
       "─────┼──────────────────────────────────────────────────────────────────────────\n",
       "   1 │    27.3      4     79.0     66     4.08    1.935    18.9       1      1 ⋯\n",
       "   2 │    21.4      6    258.0    110     3.08    3.215    19.44      1      0\n",
       "   3 │    30.4      4     95.1    113     3.77    1.513    16.9       1      1\n",
       "   4 │    24.4      4    146.7     62     3.69    3.19     20.0       1      0\n",
       "   5 │    33.9      4     71.1     65     4.22    1.835    19.9       1      1 ⋯\n",
       "   6 │    10.4      8    460.0    215     3.0     5.424    17.82      0      0\n",
       "   7 │    15.5      8    318.0    150     2.76    3.52     16.87      0      0\n",
       "   8 │    14.7      8    440.0    230     3.23    5.345    17.42      0      0\n",
       "   9 │    22.8      4    140.8     95     3.92    3.15     22.9       1      0 ⋯\n",
       "  10 │    21.0      6    160.0    110     3.9     2.62     16.46      0      1\n",
       "  11 │    15.2      8    275.8    180     3.07    3.78     18.0       0      0\n",
       "  12 │    13.3      8    350.0    245     3.73    3.84     15.41      0      0\n",
       "  13 │    15.8      8    351.0    264     4.22    3.17     14.5       0      1 ⋯\n",
       "  14 │    22.8      4    108.0     93     3.85    2.32     18.61      1      1\n",
       "  15 │    21.0      6    160.0    110     3.9     2.875    17.02      0      1\n",
       "  16 │    17.8      6    167.6    123     3.92    3.44     18.9       1      0\n",
       "  17 │    19.2      8    400.0    175     3.08    3.845    17.05      0      0 ⋯\n",
       "  18 │    30.4      4     75.7     52     4.93    1.615    18.52      1      1\n",
       "  19 │    18.7      8    360.0    175     3.15    3.44     17.02      0      0\n",
       "  20 │    21.5      4    120.1     97     3.7     2.465    20.01      1      0\n",
       "  21 │    10.4      8    472.0    205     2.93    5.25     17.98      0      0 ⋯\n",
       "  22 │    32.4      4     78.7     66     4.08    2.2      19.47      1      1\n",
       "\u001b[36m                                                               2 columns omitted\u001b[0m, \u001b[1m10×11 SubDataFrame\u001b[0m\n",
       "\u001b[1m Row \u001b[0m│\u001b[1m MPG     \u001b[0m\u001b[1m Cyl   \u001b[0m\u001b[1m Disp    \u001b[0m\u001b[1m HP    \u001b[0m\u001b[1m DRat    \u001b[0m\u001b[1m WT      \u001b[0m\u001b[1m QSec    \u001b[0m\u001b[1m VS    \u001b[0m\u001b[1m AM   \u001b[0m ⋯\n",
       "\u001b[1m     \u001b[0m│\u001b[90m Float64 \u001b[0m\u001b[90m Int64 \u001b[0m\u001b[90m Float64 \u001b[0m\u001b[90m Int64 \u001b[0m\u001b[90m Float64 \u001b[0m\u001b[90m Float64 \u001b[0m\u001b[90m Float64 \u001b[0m\u001b[90m Int64 \u001b[0m\u001b[90m Int64\u001b[0m ⋯\n",
       "─────┼──────────────────────────────────────────────────────────────────────────\n",
       "   1 │    19.2      6    167.6    123     3.92    3.44     18.3       1      0 ⋯\n",
       "   2 │    15.0      8    301.0    335     3.54    3.57     14.6       0      1\n",
       "   3 │    16.4      8    275.8    180     3.07    4.07     17.4       0      0\n",
       "   4 │    14.3      8    360.0    245     3.21    3.57     15.84      0      0\n",
       "   5 │    21.4      4    121.0    109     4.11    2.78     18.6       1      1 ⋯\n",
       "   6 │    18.1      6    225.0    105     2.76    3.46     20.22      1      0\n",
       "   7 │    19.7      6    145.0    175     3.62    2.77     15.5       0      1\n",
       "   8 │    15.2      8    304.0    150     3.15    3.435    17.3       0      0\n",
       "   9 │    26.0      4    120.3     91     4.43    2.14     16.7       0      1 ⋯\n",
       "  10 │    17.3      8    275.8    180     3.07    3.73     17.6       0      0\n",
       "\u001b[36m                                                               2 columns omitted\u001b[0m)"
      ]
     },
     "execution_count": 10,
     "metadata": {},
     "output_type": "execute_result"
    }
   ],
   "source": [
    "# Remove the model column.\n",
    "select!(data, Not(:Model))\n",
    "\n",
    "# Split our dataset 70%/30% into training/test sets.\n",
    "trainset, testset = splitobs(shuffleobs(data), 0.7)"
   ]
  },
  {
   "cell_type": "markdown",
   "id": "39d02155-9ba0-42ee-83cf-505580879dc2",
   "metadata": {},
   "source": [
    "Specify the outcome variable for predicton."
   ]
  },
  {
   "cell_type": "code",
   "execution_count": 11,
   "id": "5f522204-9119-48bf-b51d-8b423a5b8040",
   "metadata": {
    "execution": {
     "iopub.execute_input": "2021-06-02T03:45:57.677000Z",
     "iopub.status.busy": "2021-06-02T03:45:57.676000Z",
     "iopub.status.idle": "2021-06-02T03:46:02.470000Z",
     "shell.execute_reply": "2021-06-02T03:46:02.470000Z"
    }
   },
   "outputs": [
    {
     "data": {
      "text/plain": [
       "10×10 Matrix{Float64}:\n",
       " 6.0  167.6  123.0  3.92  3.44   18.3   1.0  0.0  4.0  4.0\n",
       " 8.0  301.0  335.0  3.54  3.57   14.6   0.0  1.0  5.0  8.0\n",
       " 8.0  275.8  180.0  3.07  4.07   17.4   0.0  0.0  3.0  3.0\n",
       " 8.0  360.0  245.0  3.21  3.57   15.84  0.0  0.0  3.0  4.0\n",
       " 4.0  121.0  109.0  4.11  2.78   18.6   1.0  1.0  4.0  2.0\n",
       " 6.0  225.0  105.0  2.76  3.46   20.22  1.0  0.0  3.0  1.0\n",
       " 6.0  145.0  175.0  3.62  2.77   15.5   0.0  1.0  5.0  6.0\n",
       " 8.0  304.0  150.0  3.15  3.435  17.3   0.0  0.0  3.0  2.0\n",
       " 4.0  120.3   91.0  4.43  2.14   16.7   0.0  1.0  5.0  2.0\n",
       " 8.0  275.8  180.0  3.07  3.73   17.6   0.0  0.0  3.0  3.0"
      ]
     },
     "execution_count": 11,
     "metadata": {},
     "output_type": "execute_result"
    }
   ],
   "source": [
    "target = :MPG"
   ]
  },
  {
   "cell_type": "markdown",
   "id": "7ff11cde-41f2-4040-be79-bad5be0e7337",
   "metadata": {},
   "source": [
    "Convert data to matrix form."
   ]
  },
  {
   "cell_type": "code",
   "execution_count": 14,
   "id": "9a803811-52a7-4e8c-985f-5a67f62eda9e",
   "metadata": {
    "execution": {
     "iopub.execute_input": "2021-06-02T03:47:24.677000Z",
     "iopub.status.busy": "2021-06-02T03:47:24.677000Z",
     "iopub.status.idle": "2021-06-02T03:47:24.682000Z",
     "shell.execute_reply": "2021-06-02T03:47:24.681000Z"
    }
   },
   "outputs": [
    {
     "data": {
      "text/plain": [
       "22×10 Matrix{Float64}:\n",
       " 4.0   79.0   66.0  4.08  1.935  18.9   1.0  1.0  4.0  1.0\n",
       " 6.0  258.0  110.0  3.08  3.215  19.44  1.0  0.0  3.0  1.0\n",
       " 4.0   95.1  113.0  3.77  1.513  16.9   1.0  1.0  5.0  2.0\n",
       " 4.0  146.7   62.0  3.69  3.19   20.0   1.0  0.0  4.0  2.0\n",
       " 4.0   71.1   65.0  4.22  1.835  19.9   1.0  1.0  4.0  1.0\n",
       " 8.0  460.0  215.0  3.0   5.424  17.82  0.0  0.0  3.0  4.0\n",
       " 8.0  318.0  150.0  2.76  3.52   16.87  0.0  0.0  3.0  2.0\n",
       " 8.0  440.0  230.0  3.23  5.345  17.42  0.0  0.0  3.0  4.0\n",
       " 4.0  140.8   95.0  3.92  3.15   22.9   1.0  0.0  4.0  2.0\n",
       " 6.0  160.0  110.0  3.9   2.62   16.46  0.0  1.0  4.0  4.0\n",
       " 8.0  275.8  180.0  3.07  3.78   18.0   0.0  0.0  3.0  3.0\n",
       " 8.0  350.0  245.0  3.73  3.84   15.41  0.0  0.0  3.0  4.0\n",
       " 8.0  351.0  264.0  4.22  3.17   14.5   0.0  1.0  5.0  4.0\n",
       " 4.0  108.0   93.0  3.85  2.32   18.61  1.0  1.0  4.0  1.0\n",
       " 6.0  160.0  110.0  3.9   2.875  17.02  0.0  1.0  4.0  4.0\n",
       " 6.0  167.6  123.0  3.92  3.44   18.9   1.0  0.0  4.0  4.0\n",
       " 8.0  400.0  175.0  3.08  3.845  17.05  0.0  0.0  3.0  2.0\n",
       " 4.0   75.7   52.0  4.93  1.615  18.52  1.0  1.0  4.0  2.0\n",
       " 8.0  360.0  175.0  3.15  3.44   17.02  0.0  0.0  3.0  2.0\n",
       " 4.0  120.1   97.0  3.7   2.465  20.01  1.0  0.0  3.0  1.0\n",
       " 8.0  472.0  205.0  2.93  5.25   17.98  0.0  0.0  3.0  4.0\n",
       " 4.0   78.7   66.0  4.08  2.2    19.47  1.0  1.0  4.0  1.0"
      ]
     },
     "execution_count": 14,
     "metadata": {},
     "output_type": "execute_result"
    }
   ],
   "source": [
    "train = Matrix(select(trainset, Not(target)))"
   ]
  },
  {
   "cell_type": "code",
   "execution_count": 15,
   "id": "db9a9154-383b-4699-9e8c-c224e379d584",
   "metadata": {
    "execution": {
     "iopub.execute_input": "2021-06-02T03:47:30.865000Z",
     "iopub.status.busy": "2021-06-02T03:47:30.865000Z",
     "iopub.status.idle": "2021-06-02T03:47:30.868000Z",
     "shell.execute_reply": "2021-06-02T03:47:30.868000Z"
    }
   },
   "outputs": [
    {
     "data": {
      "text/plain": [
       "10×10 Matrix{Float64}:\n",
       " 6.0  167.6  123.0  3.92  3.44   18.3   1.0  0.0  4.0  4.0\n",
       " 8.0  301.0  335.0  3.54  3.57   14.6   0.0  1.0  5.0  8.0\n",
       " 8.0  275.8  180.0  3.07  4.07   17.4   0.0  0.0  3.0  3.0\n",
       " 8.0  360.0  245.0  3.21  3.57   15.84  0.0  0.0  3.0  4.0\n",
       " 4.0  121.0  109.0  4.11  2.78   18.6   1.0  1.0  4.0  2.0\n",
       " 6.0  225.0  105.0  2.76  3.46   20.22  1.0  0.0  3.0  1.0\n",
       " 6.0  145.0  175.0  3.62  2.77   15.5   0.0  1.0  5.0  6.0\n",
       " 8.0  304.0  150.0  3.15  3.435  17.3   0.0  0.0  3.0  2.0\n",
       " 4.0  120.3   91.0  4.43  2.14   16.7   0.0  1.0  5.0  2.0\n",
       " 8.0  275.8  180.0  3.07  3.73   17.6   0.0  0.0  3.0  3.0"
      ]
     },
     "execution_count": 15,
     "metadata": {},
     "output_type": "execute_result"
    }
   ],
   "source": [
    "test = Matrix(select(testset, Not(target)))"
   ]
  },
  {
   "cell_type": "code",
   "execution_count": 13,
   "id": "7e59367f-a2a8-4f54-80c0-51e5ed6826ee",
   "metadata": {
    "execution": {
     "iopub.execute_input": "2021-06-02T03:46:34.677000Z",
     "iopub.status.busy": "2021-06-02T03:46:34.677000Z",
     "iopub.status.idle": "2021-06-02T03:46:34.678000Z",
     "shell.execute_reply": "2021-06-02T03:46:34.678000Z"
    },
    "tags": []
   },
   "outputs": [],
   "source": [
    "train_target = trainset[:, target];\n",
    "test_target = testset[:, target];"
   ]
  },
  {
   "cell_type": "markdown",
   "id": "6f77b523-3f55-47ee-8986-480e71062818",
   "metadata": {
    "tags": []
   },
   "source": [
    "### Transform data"
   ]
  },
  {
   "cell_type": "markdown",
   "id": "02ce418b-0dc1-4ea1-862b-f9b0cf0132d9",
   "metadata": {},
   "source": [
    "Standardize the data features."
   ]
  },
  {
   "cell_type": "code",
   "execution_count": 16,
   "id": "b7e6a69c-4d5e-4af7-8dcf-b6b90fc44b45",
   "metadata": {
    "execution": {
     "iopub.execute_input": "2021-06-02T03:50:22.750000Z",
     "iopub.status.busy": "2021-06-02T03:50:22.750000Z",
     "iopub.status.idle": "2021-06-02T03:50:24.505000Z",
     "shell.execute_reply": "2021-06-02T03:50:24.505000Z"
    }
   },
   "outputs": [
    {
     "data": {
      "text/plain": [
       "([6.0, 231.25454545454548, 136.4090909090909, 3.6459090909090914, 3.181227272727273, 18.14090909090909, 0.5, 0.4090909090909091, 3.6363636363636362, 2.5], [1.8516401995451028, 139.64166975060107, 64.88939974398129, 0.5406755834879975, 1.1276522569276897, 1.8090958254409035, 0.511766315719159, 0.5032362797401964, 0.657951694959769, 1.2630273533214136])"
      ]
     },
     "execution_count": 16,
     "metadata": {},
     "output_type": "execute_result"
    }
   ],
   "source": [
    "μ, σ = rescale!(train; obsdim = 1)"
   ]
  },
  {
   "cell_type": "code",
   "execution_count": 17,
   "id": "4b4b6952-fe31-47ae-b98b-fd0652474be0",
   "metadata": {
    "execution": {
     "iopub.execute_input": "2021-06-02T03:50:36.004000Z",
     "iopub.status.busy": "2021-06-02T03:50:36.004000Z",
     "iopub.status.idle": "2021-06-02T03:50:36.060000Z",
     "shell.execute_reply": "2021-06-02T03:50:36.060000Z"
    }
   },
   "outputs": [
    {
     "data": {
      "text/plain": [
       "22×10 Matrix{Float64}:\n",
       " -1.08012  -1.09032   -1.08506   …   1.17422   0.552679  -1.18762\n",
       "  0.0       0.191529  -0.406986     -0.81292  -0.967189  -1.18762\n",
       " -1.08012  -0.975028  -0.360754      1.17422   2.07255   -0.395874\n",
       " -1.08012  -0.605511  -1.14671      -0.81292   0.552679  -0.395874\n",
       " -1.08012  -1.1469    -1.10047       1.17422   0.552679  -1.18762\n",
       "  1.08012   1.63809    1.21115   …  -0.81292  -0.967189   1.18762\n",
       "  1.08012   0.6212     0.209447     -0.81292  -0.967189  -0.395874\n",
       "  1.08012   1.49487    1.44231      -0.81292  -0.967189   1.18762\n",
       " -1.08012  -0.647762  -0.638149     -0.81292   0.552679  -0.395874\n",
       "  0.0      -0.510267  -0.406986      1.17422   0.552679   1.18762\n",
       "  1.08012   0.318998   0.671772  …  -0.81292  -0.967189   0.395874\n",
       "  1.08012   0.850358   1.67348      -0.81292  -0.967189   1.18762\n",
       "  1.08012   0.857519   1.96628       1.17422   2.07255    1.18762\n",
       " -1.08012  -0.882649  -0.66897       1.17422   0.552679  -1.18762\n",
       "  0.0      -0.510267  -0.406986      1.17422   0.552679   1.18762\n",
       "  0.0      -0.455842  -0.206645  …  -0.81292   0.552679   1.18762\n",
       "  1.08012   1.20842    0.594718     -0.81292  -0.967189  -0.395874\n",
       " -1.08012  -1.11396   -1.30081       1.17422   0.552679  -0.395874\n",
       "  1.08012   0.92197    0.594718     -0.81292  -0.967189  -0.395874\n",
       " -1.08012  -0.795998  -0.607327     -0.81292  -0.967189  -1.18762\n",
       "  1.08012   1.72402    1.05704   …  -0.81292  -0.967189   1.18762\n",
       " -1.08012  -1.09247   -1.08506       1.17422   0.552679  -1.18762"
      ]
     },
     "execution_count": 17,
     "metadata": {},
     "output_type": "execute_result"
    }
   ],
   "source": [
    "train"
   ]
  },
  {
   "cell_type": "code",
   "execution_count": 18,
   "id": "cd7500d8-4b3f-4bfd-9129-15532d46f49a",
   "metadata": {
    "execution": {
     "iopub.execute_input": "2021-06-02T03:50:45.677000Z",
     "iopub.status.busy": "2021-06-02T03:50:45.676000Z",
     "iopub.status.idle": "2021-06-02T03:50:45.811000Z",
     "shell.execute_reply": "2021-06-02T03:50:45.811000Z"
    }
   },
   "outputs": [
    {
     "data": {
      "text/plain": [
       "([6.0, 231.25454545454548, 136.4090909090909, 3.6459090909090914, 3.181227272727273, 18.14090909090909, 0.5, 0.4090909090909091, 3.6363636363636362, 2.5], [1.8516401995451028, 139.64166975060107, 64.88939974398129, 0.5406755834879975, 1.1276522569276897, 1.8090958254409035, 0.511766315719159, 0.5032362797401964, 0.657951694959769, 1.2630273533214136])"
      ]
     },
     "execution_count": 18,
     "metadata": {},
     "output_type": "execute_result"
    }
   ],
   "source": [
    "rescale!(test, μ, σ; obsdim = 1)"
   ]
  },
  {
   "cell_type": "code",
   "execution_count": 19,
   "id": "d69b360a-fe9e-4ccd-95d7-d1ca7b3ff16e",
   "metadata": {
    "execution": {
     "iopub.execute_input": "2021-06-02T03:50:49.676000Z",
     "iopub.status.busy": "2021-06-02T03:50:49.676000Z",
     "iopub.status.idle": "2021-06-02T03:50:49.680000Z",
     "shell.execute_reply": "2021-06-02T03:50:49.679000Z"
    }
   },
   "outputs": [
    {
     "data": {
      "text/plain": [
       "10×10 Matrix{Float64}:\n",
       "  0.0      -0.455842  -0.206645  …  -0.81292   0.552679   1.18762\n",
       "  1.08012   0.49946    3.06045       1.17422   2.07255    4.35462\n",
       "  1.08012   0.318998   0.671772     -0.81292  -0.967189   0.395874\n",
       "  1.08012   0.92197    1.67348      -0.81292  -0.967189   1.18762\n",
       " -1.08012  -0.789553  -0.422397      1.17422   0.552679  -0.395874\n",
       "  0.0      -0.04479   -0.48404   …  -0.81292  -0.967189  -1.18762\n",
       "  0.0      -0.617685   0.594718      1.17422   2.07255    2.77112\n",
       "  1.08012   0.520944   0.209447     -0.81292  -0.967189  -0.395874\n",
       " -1.08012  -0.794566  -0.699792      1.17422   2.07255   -0.395874\n",
       "  1.08012   0.318998   0.671772     -0.81292  -0.967189   0.395874"
      ]
     },
     "execution_count": 19,
     "metadata": {},
     "output_type": "execute_result"
    }
   ],
   "source": [
    "test"
   ]
  },
  {
   "cell_type": "markdown",
   "id": "a786be18-e29d-459e-b4e1-3bb38fbbb963",
   "metadata": {},
   "source": [
    "Standardize outcome data as well."
   ]
  },
  {
   "cell_type": "code",
   "execution_count": 20,
   "id": "72a680af-c2d5-4f1f-9a2e-125d39492016",
   "metadata": {
    "execution": {
     "iopub.execute_input": "2021-06-02T03:51:44.676000Z",
     "iopub.status.busy": "2021-06-02T03:51:44.676000Z",
     "iopub.status.idle": "2021-06-02T03:51:45.217000Z",
     "shell.execute_reply": "2021-06-02T03:51:45.217000Z"
    }
   },
   "outputs": [],
   "source": [
    "μtarget, σtarget = rescale!(train_target; obsdim = 1);\n",
    "rescale!(test_target, μtarget, σtarget; obsdim = 1);"
   ]
  },
  {
   "cell_type": "markdown",
   "id": "2bee3e32-643c-4920-bfdd-b094585978b7",
   "metadata": {
    "tags": []
   },
   "source": [
    "## Define model"
   ]
  },
  {
   "cell_type": "markdown",
   "id": "325184b4-5a21-4c3c-a7fa-ee52e8f7ecb5",
   "metadata": {},
   "source": [
    "One linear model to predict the outcome variable `MPG` from the other variables in the data set is a so-called fixed effects model given by\n",
    "\n",
    "$$\n",
    "\\mathrm{MPG}_i \\sim \\mathcal{N}(\\alpha + \\beta^T \\mathbf{X}_i, \\sigma^2)\n",
    "$$\n",
    "\n",
    "Note here that the slope parameters $\\beta^T$ and the intercept $\\alpha$ are fixed across all data."
   ]
  },
  {
   "cell_type": "code",
   "execution_count": null,
   "id": "5914e4a3-07b1-4263-8ad7-166c1685a295",
   "metadata": {},
   "outputs": [],
   "source": []
  }
 ],
 "metadata": {
  "celltoolbar": "Slideshow",
  "jupytext": {
   "cell_metadata_json": true,
   "formats": "ipynb,md",
   "notebook_metadata_filter": "celltoolbar,rise,toc-autonumbering,toc-showcode,toc-showmarkdowntxt"
  },
  "kernelspec": {
   "display_name": "Julia 1.6.1",
   "language": "julia",
   "name": "julia-1.6"
  },
  "language_info": {
   "file_extension": ".jl",
   "mimetype": "application/julia",
   "name": "julia",
   "version": "1.6.1"
  },
  "rise": {
   "scroll": true,
   "theme": "black"
  },
  "toc-autonumbering": true,
  "toc-showcode": false,
  "toc-showmarkdowntxt": false
 },
 "nbformat": 4,
 "nbformat_minor": 5
}
